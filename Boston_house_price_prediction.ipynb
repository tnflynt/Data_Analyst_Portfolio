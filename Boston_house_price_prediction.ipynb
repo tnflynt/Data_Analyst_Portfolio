{
  "nbformat": 4,
  "nbformat_minor": 0,
  "metadata": {
    "colab": {
      "name": "Boston house price prediction.ipynb",
      "provenance": [],
      "collapsed_sections": [],
      "include_colab_link": true
    },
    "kernelspec": {
      "name": "python3",
      "display_name": "Python 3"
    }
  },
  "cells": [
    {
      "cell_type": "markdown",
      "metadata": {
        "id": "view-in-github",
        "colab_type": "text"
      },
      "source": [
        "<a href=\"https://colab.research.google.com/github/tnflynt/Data_Analyst_Portfolio/blob/main/Boston_house_price_prediction.ipynb\" target=\"_parent\"><img src=\"https://colab.research.google.com/assets/colab-badge.svg\" alt=\"Open In Colab\"/></a>"
      ]
    },
    {
      "cell_type": "markdown",
      "metadata": {
        "id": "OTVXpWUVFqHw"
      },
      "source": [
        "# Boston house price prediction"
      ]
    },
    {
      "cell_type": "markdown",
      "source": [
        "### The objective of this exercise is to predict the median value of houses in the suburbs of Boston"
      ],
      "metadata": {
        "id": "oJbepvPwJIPA"
      }
    },
    {
      "cell_type": "markdown",
      "source": [
        "**Step 1**: Install Spark"
      ],
      "metadata": {
        "id": "Mqs1wTXmIqxu"
      }
    },
    {
      "cell_type": "code",
      "metadata": {
        "id": "UNo7SbmZb0to",
        "colab": {
          "base_uri": "https://localhost:8080/"
        },
        "outputId": "608d8782-4edb-4662-fd30-e44feb3f9cda"
      },
      "source": [
        "!sudo apt update\n",
        "!sudo apt-get install openjdk-8-jdk-headless -qq > /dev/null\n",
        "!wget -q https://downloads.apache.org/spark/spark-3.0.1/spark-3.0.1-bin-hadoop3.2.tgz\n",
        "!tar xf spark-3.0.1-bin-hadoop3.2.tgz\n",
        "!pip install -q findspark"
      ],
      "execution_count": null,
      "outputs": [
        {
          "output_type": "stream",
          "text": [
            "\u001b[33m\r0% [Working]\u001b[0m\r            \rIgn:1 https://developer.download.nvidia.com/compute/cuda/repos/ubuntu1804/x86_64  InRelease\n",
            "\u001b[33m\r0% [Connecting to archive.ubuntu.com] [Waiting for headers] [Waiting for header\u001b[0m\r                                                                               \rHit:2 https://cloud.r-project.org/bin/linux/ubuntu bionic-cran40/ InRelease\n",
            "\u001b[33m\r0% [Connecting to archive.ubuntu.com] [Waiting for headers] [Connecting to ppa.\u001b[0m\r                                                                               \rHit:3 http://security.ubuntu.com/ubuntu bionic-security InRelease\n",
            "\r                                                                               \rIgn:4 https://developer.download.nvidia.com/compute/machine-learning/repos/ubuntu1804/x86_64  InRelease\n",
            "\u001b[33m\r0% [Connecting to archive.ubuntu.com (91.189.88.142)] [Connecting to ppa.launch\u001b[0m\u001b[33m\r0% [2 InRelease gpgv 3,626 B] [Connecting to archive.ubuntu.com (91.189.88.142)\u001b[0m\r                                                                               \rHit:5 https://developer.download.nvidia.com/compute/cuda/repos/ubuntu1804/x86_64  Release\n",
            "Hit:6 https://developer.download.nvidia.com/compute/machine-learning/repos/ubuntu1804/x86_64  Release\n",
            "Hit:7 http://ppa.launchpad.net/c2d4u.team/c2d4u4.0+/ubuntu bionic InRelease\n",
            "Hit:8 http://archive.ubuntu.com/ubuntu bionic InRelease\n",
            "Hit:11 http://archive.ubuntu.com/ubuntu bionic-updates InRelease\n",
            "Hit:12 http://ppa.launchpad.net/graphics-drivers/ppa/ubuntu bionic InRelease\n",
            "Hit:13 http://archive.ubuntu.com/ubuntu bionic-backports InRelease\n",
            "Reading package lists... Done\n",
            "Building dependency tree       \n",
            "Reading state information... Done\n",
            "15 packages can be upgraded. Run 'apt list --upgradable' to see them.\n"
          ],
          "name": "stdout"
        }
      ]
    },
    {
      "cell_type": "code",
      "metadata": {
        "id": "9rlff0Gdb-FQ"
      },
      "source": [
        "import os\n",
        "os.environ[\"JAVA_HOME\"] = \"/usr/lib/jvm/java-8-openjdk-amd64\"\n",
        "os.environ[\"SPARK_HOME\"] = \"/content/spark-3.0.1-bin-hadoop3.2\""
      ],
      "execution_count": null,
      "outputs": []
    },
    {
      "cell_type": "code",
      "metadata": {
        "id": "IFfjA-1zcEY1"
      },
      "source": [
        "import findspark\n",
        "findspark.init()"
      ],
      "execution_count": null,
      "outputs": []
    },
    {
      "cell_type": "markdown",
      "metadata": {
        "id": "ym5VDiLoFzXO"
      },
      "source": [
        "**Step 2**: Mount Google drive so that we can access the dataset. The dataset sits in Google drive"
      ]
    },
    {
      "cell_type": "code",
      "metadata": {
        "id": "UukyscmJnS5C",
        "colab": {
          "base_uri": "https://localhost:8080/"
        },
        "outputId": "0103a029-74ff-406c-ad98-94bfc721e787"
      },
      "source": [
        "# Load the Drive helper and mount\n",
        "from google.colab import drive\n",
        "\n",
        "# This will prompt for authorization.\n",
        "drive.mount('/content/drive')"
      ],
      "execution_count": null,
      "outputs": [
        {
          "output_type": "stream",
          "text": [
            "Drive already mounted at /content/drive; to attempt to forcibly remount, call drive.mount(\"/content/drive\", force_remount=True).\n"
          ],
          "name": "stdout"
        }
      ]
    },
    {
      "cell_type": "markdown",
      "metadata": {
        "id": "XGrB0_4PGG4Y"
      },
      "source": [
        "**Step 3**: Read the contents of Google drive"
      ]
    },
    {
      "cell_type": "code",
      "metadata": {
        "id": "HIpSFGjMnmI2",
        "colab": {
          "base_uri": "https://localhost:8080/"
        },
        "outputId": "85947f06-2591-4484-d29b-74a0840b6b1b"
      },
      "source": [
        "# After executing the cell above, Drive\n",
        "# files will be present in \"/content/drive/My Drive\".\n",
        "!ls \"/content/drive/My Drive\""
      ],
      "execution_count": null,
      "outputs": [
        {
          "output_type": "stream",
          "text": [
            " airline.csv\t        cal_housing.data\t\t      diabetes.csv\n",
            " bank.csv\t        cal_housing.domain\t\t      heart.csv\n",
            " boston_data.csv       'Colab Notebooks'\n",
            " boston_test_data.csv   Copy_of_Introduction_to_Spark.ipynb\n"
          ],
          "name": "stdout"
        }
      ]
    },
    {
      "cell_type": "markdown",
      "metadata": {
        "id": "s-qGk0G-Iwz2"
      },
      "source": [
        "**Step 4**: Import SparkSession which provides a single point of entry to interact with underlying Spark functionality"
      ]
    },
    {
      "cell_type": "code",
      "metadata": {
        "id": "ZmVWSriBey_P"
      },
      "source": [
        "# Import SparkSession from pyspark.sql\n",
        "from pyspark.sql import SparkSession\n",
        "\n",
        "# Create spark_session\n",
        "spark_session = SparkSession.builder.getOrCreate()"
      ],
      "execution_count": null,
      "outputs": []
    },
    {
      "cell_type": "markdown",
      "metadata": {
        "id": "wS7OXsgXKOOH"
      },
      "source": [
        "**Step 5**: Read in the data files"
      ]
    },
    {
      "cell_type": "code",
      "metadata": {
        "id": "moTHfFQ-Nv8k"
      },
      "source": [
        "# Load in the training data\n",
        "df_train = spark_session.read.option(\"header\", \"true\").csv(\"/content/drive/My Drive/boston_data.csv\")"
      ],
      "execution_count": null,
      "outputs": []
    },
    {
      "cell_type": "code",
      "metadata": {
        "id": "smAt6CrLODcq"
      },
      "source": [
        "# Load in the test data\n",
        "df_test = spark_session.read.option(\"header\", \"true\").csv(\"/content/drive/My Drive/boston_test_data.csv\")"
      ],
      "execution_count": null,
      "outputs": []
    },
    {
      "cell_type": "markdown",
      "metadata": {
        "id": "ui5lVKwtqAEn"
      },
      "source": [
        "**Step 6**: Display the contents of the DataFrame"
      ]
    },
    {
      "cell_type": "code",
      "metadata": {
        "id": "JC5XUNqSqhi-",
        "colab": {
          "base_uri": "https://localhost:8080/"
        },
        "outputId": "bb637db1-9941-43c1-8478-cd05cc2c8ef5"
      },
      "source": [
        "df_train.show()\n",
        "df_test.show()"
      ],
      "execution_count": null,
      "outputs": [
        {
          "output_type": "stream",
          "text": [
            "+-------+----+-----+----+-----+-----+-----+------+----+-----+-------+------+-----+----+\n",
            "|   crim|  zn|indus|chas|  nox|   rm|  age|   dis| rad|  tax|ptratio| black|lstat|medv|\n",
            "+-------+----+-----+----+-----+-----+-----+------+----+-----+-------+------+-----+----+\n",
            "|0.15876| 0.0|10.81| 0.0|0.413|5.961| 17.5|5.2873| 4.0|305.0|   19.2|376.94| 9.88|21.7|\n",
            "|0.10328|25.0| 5.13| 0.0|0.453|5.927| 47.2| 6.932| 8.0|284.0|   19.7| 396.9| 9.22|19.6|\n",
            "| 0.3494| 0.0|  9.9| 0.0|0.544|5.972| 76.7|3.1025| 4.0|304.0|   18.4|396.24| 9.97|20.3|\n",
            "|2.73397| 0.0|19.58| 0.0|0.871|5.597| 94.9|1.5257| 5.0|403.0|   14.7|351.85|21.45|15.4|\n",
            "|0.04337|21.0| 5.64| 0.0|0.439|6.115| 63.0|6.8147| 4.0|243.0|   16.8|393.97| 9.43|20.5|\n",
            "| 0.0837|45.0| 3.44| 0.0|0.437|7.185| 38.9|4.5667| 5.0|398.0|   15.2| 396.9| 5.39|34.9|\n",
            "|0.19073|22.0| 5.86| 0.0|0.431|6.718| 17.5|7.8265| 7.0|330.0|   19.1|393.74| 6.56|26.2|\n",
            "|0.26938| 0.0|  9.9| 0.0|0.544|6.266| 82.8|3.2628| 4.0|304.0|   18.4|393.39|  7.9|21.6|\n",
            "|10.0623| 0.0| 18.1| 0.0|0.584|6.833| 94.3|2.0882|24.0|666.0|   20.2| 81.33|19.69|14.1|\n",
            "|1.41385| 0.0|19.58| 1.0|0.871|6.129| 96.0|1.7494| 5.0|403.0|   14.7|321.02|15.12|17.0|\n",
            "|25.9406| 0.0| 18.1| 0.0|0.679|5.304| 89.1|1.6475|24.0|666.0|   20.2|127.36|26.64|10.4|\n",
            "|0.09252|30.0| 4.93| 0.0|0.428|6.606| 42.2|6.1899| 6.0|300.0|   16.6|383.78| 7.37|23.3|\n",
            "|1.00245| 0.0| 8.14| 0.0|0.538|6.674| 87.3| 4.239| 4.0|307.0|   21.0|380.23|11.98|21.0|\n",
            "|0.11027|25.0| 5.13| 0.0|0.453|6.456| 67.8|7.2255| 8.0|284.0|   19.7| 396.9| 6.73|22.2|\n",
            "|15.1772| 0.0| 18.1| 0.0| 0.74|6.152|100.0|1.9142|24.0|666.0|   20.2|  9.32|26.45| 8.7|\n",
            "|5.70818| 0.0| 18.1| 0.0|0.532| 6.75| 74.9|3.3317|24.0|666.0|   20.2|393.07| 7.74|23.7|\n",
            "| 0.1029|30.0| 4.93| 0.0|0.428|6.358| 52.9|7.0355| 6.0|300.0|   16.6|372.75|11.22|22.2|\n",
            "|15.0234| 0.0| 18.1| 0.0|0.614|5.304| 97.3|2.1007|24.0|666.0|   20.2|349.48|24.91|12.0|\n",
            "| 1.6566| 0.0|19.58| 0.0|0.871|6.122| 97.3| 1.618| 5.0|403.0|   14.7| 372.8| 14.1|21.5|\n",
            "|1.42502| 0.0|19.58| 0.0|0.871| 6.51|100.0|1.7659| 5.0|403.0|   14.7|364.31| 7.39|23.3|\n",
            "+-------+----+-----+----+-----+-----+-----+------+----+-----+-------+------+-----+----+\n",
            "only showing top 20 rows\n",
            "\n",
            "+-------+----+-----+----+-----+-----+-----+------+----+-----+-------+------+-----+\n",
            "|   crim|  zn|indus|chas|  nox|   rm|  age|   dis| rad|  tax|ptratio| black|lstat|\n",
            "+-------+----+-----+----+-----+-----+-----+------+----+-----+-------+------+-----+\n",
            "|0.07886|80.0| 4.95| 0.0|0.411|7.148| 27.7|5.1167| 4.0|245.0|   19.2| 396.9| 3.56|\n",
            "|0.08873|21.0| 5.64| 0.0|0.439|5.963| 45.7|6.8147| 4.0|243.0|   16.8|395.56|13.45|\n",
            "|1.38799| 0.0| 8.14| 0.0|0.538| 5.95| 82.0|  3.99| 4.0|307.0|   21.0| 232.6|27.71|\n",
            "|0.30347| 0.0| 7.38| 0.0|0.493|6.312| 28.9|5.4159| 5.0|287.0|   19.6| 396.9| 6.15|\n",
            "|0.22927| 0.0| 6.91| 0.0|0.448| 6.03| 85.5|5.6894| 3.0|233.0|   17.9|392.74| 18.8|\n",
            "|0.06466|70.0| 2.24| 0.0|  0.4|6.345| 20.1|7.8278| 5.0|358.0|   14.8|368.24| 4.97|\n",
            "|0.13117| 0.0| 8.56| 0.0| 0.52|6.127| 85.2|2.1224| 5.0|384.0|   20.9|387.69|14.09|\n",
            "|1.23247| 0.0| 8.14| 0.0|0.538|6.142| 91.7|3.9769| 4.0|307.0|   21.0| 396.9|18.72|\n",
            "|0.43571| 0.0|10.59| 1.0|0.489|5.344|100.0| 3.875| 4.0|277.0|   18.6| 396.9|23.09|\n",
            "|0.08187| 0.0| 2.89| 0.0|0.445| 7.82| 36.9|3.4952| 2.0|276.0|   18.0|393.53| 3.57|\n",
            "|0.52014|20.0| 3.97| 0.0|0.647|8.398| 91.5|2.2885| 5.0|264.0|   13.0|386.86| 5.91|\n",
            "|24.8017| 0.0| 18.1| 0.0|0.693|5.349| 96.0|1.7028|24.0|666.0|   20.2| 396.9|19.77|\n",
            "|1.25179| 0.0| 8.14| 0.0|0.538| 5.57| 98.1|3.7979| 4.0|307.0|   21.0|376.57|21.02|\n",
            "|0.54011|20.0| 3.97| 0.0|0.647|7.203| 81.8|2.1121| 5.0|264.0|   13.0| 392.8| 9.59|\n",
            "|11.9511| 0.0| 18.1| 0.0|0.659|5.608|100.0|1.2852|24.0|666.0|   20.2|332.09|12.13|\n",
            "|12.8023| 0.0| 18.1| 0.0| 0.74|5.854| 96.6|1.8956|24.0|666.0|   20.2|240.52|23.79|\n",
            "|0.04294|28.0|15.04| 0.0|0.464|6.249| 77.3| 3.615| 4.0|270.0|   18.2| 396.9|10.59|\n",
            "|0.17171|25.0| 5.13| 0.0|0.453|5.966| 93.4|6.8185| 8.0|284.0|   19.7|378.08|14.44|\n",
            "|0.03961| 0.0| 5.19| 0.0|0.515|6.037| 34.5|5.9853| 5.0|224.0|   20.2| 396.9| 8.01|\n",
            "|11.1081| 0.0| 18.1| 0.0|0.668|4.906|100.0|1.1742|24.0|666.0|   20.2| 396.9|34.77|\n",
            "+-------+----+-----+----+-----+-----+-----+------+----+-----+-------+------+-----+\n",
            "only showing top 20 rows\n",
            "\n"
          ],
          "name": "stdout"
        }
      ]
    },
    {
      "cell_type": "markdown",
      "metadata": {
        "id": "fJCdLhh-qI58"
      },
      "source": [
        "**Step 7**: Display the data types"
      ]
    },
    {
      "cell_type": "code",
      "metadata": {
        "id": "TVxAFQ5z9_vT",
        "colab": {
          "base_uri": "https://localhost:8080/"
        },
        "outputId": "c704dcdb-e036-476e-cdf5-af16e89d6320"
      },
      "source": [
        "df_train.dtypes"
      ],
      "execution_count": null,
      "outputs": [
        {
          "output_type": "execute_result",
          "data": {
            "text/plain": [
              "[('crim', 'string'),\n",
              " ('zn', 'string'),\n",
              " ('indus', 'string'),\n",
              " ('chas', 'string'),\n",
              " ('nox', 'string'),\n",
              " ('rm', 'string'),\n",
              " ('age', 'string'),\n",
              " ('dis', 'string'),\n",
              " ('rad', 'string'),\n",
              " ('tax', 'string'),\n",
              " ('ptratio', 'string'),\n",
              " ('black', 'string'),\n",
              " ('lstat', 'string'),\n",
              " ('medv', 'string')]"
            ]
          },
          "metadata": {
            "tags": []
          },
          "execution_count": 44
        }
      ]
    },
    {
      "cell_type": "code",
      "metadata": {
        "colab": {
          "base_uri": "https://localhost:8080/"
        },
        "id": "uRjSRzPjIp3s",
        "outputId": "2233552e-ef30-4028-a7e1-6ab0725c6c52"
      },
      "source": [
        "df_test.dtypes"
      ],
      "execution_count": null,
      "outputs": [
        {
          "output_type": "execute_result",
          "data": {
            "text/plain": [
              "[('crim', 'string'),\n",
              " ('zn', 'string'),\n",
              " ('indus', 'string'),\n",
              " ('chas', 'string'),\n",
              " ('nox', 'string'),\n",
              " ('rm', 'string'),\n",
              " ('age', 'string'),\n",
              " ('dis', 'string'),\n",
              " ('rad', 'string'),\n",
              " ('tax', 'string'),\n",
              " ('ptratio', 'string'),\n",
              " ('black', 'string'),\n",
              " ('lstat', 'string')]"
            ]
          },
          "metadata": {
            "tags": []
          },
          "execution_count": 45
        }
      ]
    },
    {
      "cell_type": "code",
      "metadata": {
        "id": "LEl8uRgY-gqi"
      },
      "source": [
        "# Import all from `sql.types`\n",
        "from pyspark.sql.types import *\n"
      ],
      "execution_count": null,
      "outputs": []
    },
    {
      "cell_type": "markdown",
      "metadata": {
        "id": "oUx9WTUcqQ7G"
      },
      "source": [
        "**Step 8**: Function that converts the data types of the DataFrame columns"
      ]
    },
    {
      "cell_type": "code",
      "metadata": {
        "id": "Ur9cxXru-h-4"
      },
      "source": [
        "# Write a custom function to convert the data type of DataFrame columns\n",
        "def convertColumn(df, names, newType):\n",
        "  for name in names: \n",
        "     df = df.withColumn(name, df[name].cast(newType))\n",
        "  return df "
      ],
      "execution_count": null,
      "outputs": []
    },
    {
      "cell_type": "code",
      "metadata": {
        "id": "f4lSI3IW-moT"
      },
      "source": [
        "# Assign all column names, except for \"chas\" (categorical variable), to `columns`\n",
        "columns_train = ['crim','zn','indus','nox','rm','age','dis','rad','tax','ptratio','black','lstat','medv']\n",
        "columns_test = ['crim','zn','indus','nox','rm','age','dis','rad','tax','ptratio','black','lstat']"
      ],
      "execution_count": null,
      "outputs": []
    },
    {
      "cell_type": "markdown",
      "metadata": {
        "id": "8EAtBXGLqhuH"
      },
      "source": [
        "**Step 9**: Convert the data types of the above mentioned columns into a float type"
      ]
    },
    {
      "cell_type": "code",
      "metadata": {
        "id": "dYi07uJn-xsQ"
      },
      "source": [
        "from pyspark.sql.types import *\n",
        "# Conver the 'df_train' and 'df_test' columns to `FloatType()`\n",
        "df_train = convertColumn(df_train, columns_train, FloatType())\n",
        "df_test = convertColumn(df_test, columns_test, FloatType())"
      ],
      "execution_count": null,
      "outputs": []
    },
    {
      "cell_type": "markdown",
      "metadata": {
        "id": "YjL4VkoiqzL5"
      },
      "source": [
        "**Step 10**: Confirm that the data type has been converted into float"
      ]
    },
    {
      "cell_type": "code",
      "metadata": {
        "id": "ktkfgVdF-53_",
        "colab": {
          "base_uri": "https://localhost:8080/"
        },
        "outputId": "f4b17cf2-79ed-42c5-b495-e518c185d0e0"
      },
      "source": [
        "df_train.dtypes"
      ],
      "execution_count": null,
      "outputs": [
        {
          "output_type": "execute_result",
          "data": {
            "text/plain": [
              "[('crim', 'float'),\n",
              " ('zn', 'float'),\n",
              " ('indus', 'float'),\n",
              " ('chas', 'string'),\n",
              " ('nox', 'float'),\n",
              " ('rm', 'float'),\n",
              " ('age', 'float'),\n",
              " ('dis', 'float'),\n",
              " ('rad', 'float'),\n",
              " ('tax', 'float'),\n",
              " ('ptratio', 'float'),\n",
              " ('black', 'float'),\n",
              " ('lstat', 'float'),\n",
              " ('medv', 'float')]"
            ]
          },
          "metadata": {
            "tags": []
          },
          "execution_count": 50
        }
      ]
    },
    {
      "cell_type": "code",
      "metadata": {
        "colab": {
          "base_uri": "https://localhost:8080/"
        },
        "id": "kNAEbUA-Aa8t",
        "outputId": "e9bc4da4-2fc8-4ec6-decf-f6c7a41f940a"
      },
      "source": [
        "df_test.dtypes"
      ],
      "execution_count": null,
      "outputs": [
        {
          "output_type": "execute_result",
          "data": {
            "text/plain": [
              "[('crim', 'float'),\n",
              " ('zn', 'float'),\n",
              " ('indus', 'float'),\n",
              " ('chas', 'string'),\n",
              " ('nox', 'float'),\n",
              " ('rm', 'float'),\n",
              " ('age', 'float'),\n",
              " ('dis', 'float'),\n",
              " ('rad', 'float'),\n",
              " ('tax', 'float'),\n",
              " ('ptratio', 'float'),\n",
              " ('black', 'float'),\n",
              " ('lstat', 'float')]"
            ]
          },
          "metadata": {
            "tags": []
          },
          "execution_count": 51
        }
      ]
    },
    {
      "cell_type": "code",
      "metadata": {
        "id": "EF2Ff0P-CWn4",
        "colab": {
          "base_uri": "https://localhost:8080/"
        },
        "outputId": "0232e3e6-5b9f-47bb-9b65-3a664e320de5"
      },
      "source": [
        "# Print the schema of 'df_train'\n",
        "df_train.printSchema()"
      ],
      "execution_count": null,
      "outputs": [
        {
          "output_type": "stream",
          "text": [
            "root\n",
            " |-- crim: float (nullable = true)\n",
            " |-- zn: float (nullable = true)\n",
            " |-- indus: float (nullable = true)\n",
            " |-- chas: string (nullable = true)\n",
            " |-- nox: float (nullable = true)\n",
            " |-- rm: float (nullable = true)\n",
            " |-- age: float (nullable = true)\n",
            " |-- dis: float (nullable = true)\n",
            " |-- rad: float (nullable = true)\n",
            " |-- tax: float (nullable = true)\n",
            " |-- ptratio: float (nullable = true)\n",
            " |-- black: float (nullable = true)\n",
            " |-- lstat: float (nullable = true)\n",
            " |-- medv: float (nullable = true)\n",
            "\n"
          ],
          "name": "stdout"
        }
      ]
    },
    {
      "cell_type": "code",
      "metadata": {
        "id": "PcIqdw1j-7-s",
        "colab": {
          "base_uri": "https://localhost:8080/"
        },
        "outputId": "4c9ba2ef-a84f-4f37-bda5-bd4092d7cb93"
      },
      "source": [
        "df_train.describe().show()"
      ],
      "execution_count": null,
      "outputs": [
        {
          "output_type": "stream",
          "text": [
            "+-------+----------------+------------------+-----------------+-------------------+-------------------+------------------+------------------+------------------+-----------------+------------------+------------------+------------------+------------------+------------------+\n",
            "|summary|            crim|                zn|            indus|               chas|                nox|                rm|               age|               dis|              rad|               tax|           ptratio|             black|             lstat|              medv|\n",
            "+-------+----------------+------------------+-----------------+-------------------+-------------------+------------------+------------------+------------------+-----------------+------------------+------------------+------------------+------------------+------------------+\n",
            "|  count|             404|               404|              404|                404|                404|               404|               404|               404|              404|               404|               404|               404|               404|               404|\n",
            "|   mean|3.73091193334324|10.509900990099009|11.18990109750245|0.06930693069306931| 0.5567103971791739| 6.301450496262843| 68.60173270135823| 3.799666345709621|9.836633663366337|411.68811881188117|18.444554687726615|355.06824077665806|12.598935633012564|22.312376276101215|\n",
            "| stddev|8.94392217759809|22.053733184762923|6.814909377215455|0.25429026389960196|0.11732064937276065|0.6758303007077355|28.066142748761823|2.1099159838576207|8.834741064787444|171.07355305036535| 2.150294835302372| 94.48957154453129| 6.925172497071917|  8.83701867083952|\n",
            "|    min|         0.00632|               0.0|             0.46|                0.0|              0.392|             3.561|               2.9|            1.1691|              1.0|             187.0|              12.6|              0.32|              1.73|               5.0|\n",
            "|    max|         88.9762|              95.0|            27.74|                1.0|              0.871|              8.78|             100.0|           12.1265|             24.0|             711.0|              22.0|             396.9|             34.37|              50.0|\n",
            "+-------+----------------+------------------+-----------------+-------------------+-------------------+------------------+------------------+------------------+-----------------+------------------+------------------+------------------+------------------+------------------+\n",
            "\n"
          ],
          "name": "stdout"
        }
      ]
    },
    {
      "cell_type": "markdown",
      "metadata": {
        "id": "TI9sdf3QrX13"
      },
      "source": [
        "**Step 11**: Processing the data"
      ]
    },
    {
      "cell_type": "code",
      "metadata": {
        "id": "7irQ2v75aMDA",
        "colab": {
          "base_uri": "https://localhost:8080/"
        },
        "outputId": "896baa5b-f31b-44e4-8c42-0655de43cbc8"
      },
      "source": [
        "# Import all from `sql.functions` \n",
        "from pyspark.sql.functions import *\n",
        "\n",
        "# Create a \"medv_fake\" column for test data. This column will support Dense Vector creation for test data.\n",
        "df_test = df_test.withColumn(\"medv_fake\", col(\"age\")*0)\n",
        "\n",
        "# Show the first 2 lines of `df_test`\n",
        "df_test.take(2)"
      ],
      "execution_count": null,
      "outputs": [
        {
          "output_type": "execute_result",
          "data": {
            "text/plain": [
              "[Row(crim=0.07885999977588654, zn=80.0, indus=4.949999809265137, chas='0.0', nox=0.41100001335144043, rm=7.1479997634887695, age=27.700000762939453, dis=5.116700172424316, rad=4.0, tax=245.0, ptratio=19.200000762939453, black=396.8999938964844, lstat=3.559999942779541, medv_fake=0.0),\n",
              " Row(crim=0.08872999995946884, zn=21.0, indus=5.639999866485596, chas='0.0', nox=0.4390000104904175, rm=5.9629998207092285, age=45.70000076293945, dis=6.814700126647949, rad=4.0, tax=243.0, ptratio=16.799999237060547, black=395.55999755859375, lstat=13.449999809265137, medv_fake=0.0)]"
            ]
          },
          "metadata": {
            "tags": []
          },
          "execution_count": 54
        }
      ]
    },
    {
      "cell_type": "code",
      "metadata": {
        "id": "UPu4mhyZd9H7"
      },
      "source": [
        "# Re-order and select columns\n",
        "df_train = df_train.select('medv','crim','zn','indus','nox','rm','age','dis','rad','tax','ptratio','black','lstat')\n",
        "df_test = df_test.select('medv_fake','crim','zn','indus','nox','rm','age','dis','rad','tax','ptratio','black','lstat')"
      ],
      "execution_count": null,
      "outputs": []
    },
    {
      "cell_type": "markdown",
      "metadata": {
        "id": "p5qXurv_rhD8"
      },
      "source": [
        "**Step 12**: Specifying the label and the features - the label in this case is the dependent variable i.e. **medv**"
      ]
    },
    {
      "cell_type": "code",
      "metadata": {
        "id": "xzeatbBae8ou",
        "colab": {
          "base_uri": "https://localhost:8080/"
        },
        "outputId": "0b29dff5-0b45-4b90-9e39-77f81ee7cc50"
      },
      "source": [
        "# Import `DenseVector`\n",
        "# A Dense Vector is used to store arrays of values for use in PySpark.\n",
        "from pyspark.ml.linalg import DenseVector\n",
        "\n",
        "# Define the `input_data` \n",
        "input_data_train = df_train.rdd.map(lambda x: (x[0], DenseVector(x[1:])))\n",
        "input_data_test = df_test.rdd.map(lambda x: (x[0], DenseVector(x[1:])))\n",
        "\n",
        "# Replace 'df_train' and 'df_test' with the new DataFrames\n",
        "df_train = spark_session.createDataFrame(input_data_train,[\"label\", \"features\"])\n",
        "df_test = spark_session.createDataFrame(input_data_test,[\"label_fake\", \"features\"])\n",
        "\n",
        "label = df_train.rdd.map(lambda x: x.label)\n",
        "features = df_train.rdd.map(lambda x: x.features)\n",
        "df_train.show()\n",
        "df_test.show()"
      ],
      "execution_count": null,
      "outputs": [
        {
          "output_type": "stream",
          "text": [
            "+------------------+--------------------+\n",
            "|             label|            features|\n",
            "+------------------+--------------------+\n",
            "|21.700000762939453|[0.15875999629497...|\n",
            "|19.600000381469727|[0.10328000038862...|\n",
            "|20.299999237060547|[0.34940001368522...|\n",
            "|15.399999618530273|[2.73396992683410...|\n",
            "|              20.5|[0.04337000101804...|\n",
            "|34.900001525878906|[0.08370000123977...|\n",
            "|26.200000762939453|[0.19073000550270...|\n",
            "|21.600000381469727|[0.26938000321388...|\n",
            "|14.100000381469727|[10.0622997283935...|\n",
            "|              17.0|[1.41384994983673...|\n",
            "|10.399999618530273|[25.9405994415283...|\n",
            "|23.299999237060547|[0.09251999855041...|\n",
            "|              21.0|[1.00244998931884...|\n",
            "|22.200000762939453|[0.11027000099420...|\n",
            "| 8.699999809265137|[15.1772003173828...|\n",
            "|23.700000762939453|[5.70817995071411...|\n",
            "|22.200000762939453|[0.10289999842643...|\n",
            "|              12.0|[15.0234003067016...|\n",
            "|              21.5|[1.65659999847412...|\n",
            "|23.299999237060547|[1.42501997947692...|\n",
            "+------------------+--------------------+\n",
            "only showing top 20 rows\n",
            "\n",
            "+----------+--------------------+\n",
            "|label_fake|            features|\n",
            "+----------+--------------------+\n",
            "|       0.0|[0.07885999977588...|\n",
            "|       0.0|[0.08872999995946...|\n",
            "|       0.0|[1.38798999786376...|\n",
            "|       0.0|[0.30346998572349...|\n",
            "|       0.0|[0.22926999628543...|\n",
            "|       0.0|[0.06465999782085...|\n",
            "|       0.0|[0.13117000460624...|\n",
            "|       0.0|[1.23247003555297...|\n",
            "|       0.0|[0.43571001291275...|\n",
            "|       0.0|[0.08186999708414...|\n",
            "|       0.0|[0.52013999223709...|\n",
            "|       0.0|[24.8017005920410...|\n",
            "|       0.0|[1.25179004669189...|\n",
            "|       0.0|[0.54010999202728...|\n",
            "|       0.0|[11.9511003494262...|\n",
            "|       0.0|[12.8023004531860...|\n",
            "|       0.0|[0.04293999820947...|\n",
            "|       0.0|[0.17170999944210...|\n",
            "|       0.0|[0.03960999846458...|\n",
            "|       0.0|[11.1080999374389...|\n",
            "+----------+--------------------+\n",
            "only showing top 20 rows\n",
            "\n"
          ],
          "name": "stdout"
        }
      ]
    },
    {
      "cell_type": "markdown",
      "metadata": {
        "id": "Kcv_86EQrxY3"
      },
      "source": [
        "**Step 13**: Scaling the features using 'StandardScaler' - standardizes a feature of the model by subtracting the mean and then scaling to unit variance. Unit variance means dividing all the values by the standard deviation."
      ]
    },
    {
      "cell_type": "code",
      "metadata": {
        "id": "4cLUbFwue-Vh",
        "colab": {
          "base_uri": "https://localhost:8080/"
        },
        "outputId": "92c0956b-0d17-4590-f088-e6b9e3490762"
      },
      "source": [
        "# Import `StandardScaler` \n",
        "from pyspark.ml.feature import StandardScaler\n",
        "\n",
        "# Initialize the `standardScaler`\n",
        "standardScaler = StandardScaler(inputCol=\"features\", outputCol=\"features_scaled\")\n",
        "\n",
        "# Fit the DataFrame to the scaler\n",
        "scaler = standardScaler.fit(df_train.select('features'))\n",
        "\n",
        "# Transform the data in 'df_train' and 'df_test' with the scaler\n",
        "scaled_df_train = scaler.transform(df_train)\n",
        "scaled_df_test = scaler.transform(df_test)\n",
        "\n",
        "# Inspect the result\n",
        "scaled_df_train.take(2)"
      ],
      "execution_count": null,
      "outputs": [
        {
          "output_type": "execute_result",
          "data": {
            "text/plain": [
              "[Row(label=21.700000762939453, features=DenseVector([0.1588, 0.0, 10.81, 0.413, 5.961, 17.5, 5.2873, 4.0, 305.0, 19.2, 376.94, 9.88]), features_scaled=DenseVector([0.0178, 0.0, 1.5862, 3.5203, 8.8203, 0.6235, 2.5059, 0.4528, 1.7829, 8.929, 3.9892, 1.4267])),\n",
              " Row(label=19.600000381469727, features=DenseVector([0.1033, 25.0, 5.13, 0.453, 5.927, 47.2, 6.932, 8.0, 284.0, 19.7, 396.9, 9.22]), features_scaled=DenseVector([0.0115, 1.1336, 0.7528, 3.8612, 8.77, 1.6817, 3.2854, 0.9055, 1.6601, 9.1615, 4.2005, 1.3314]))]"
            ]
          },
          "metadata": {
            "tags": []
          },
          "execution_count": 57
        }
      ]
    },
    {
      "cell_type": "code",
      "metadata": {
        "id": "JieYBFnefQBa"
      },
      "source": [
        "# Import `LinearRegression`\n",
        "from pyspark.ml.regression import LinearRegression\n",
        "\n",
        "# Initialize `lr`\n",
        "lr = LinearRegression(featuresCol = 'features_scaled', labelCol=\"label\", maxIter=100, regParam=0.3, elasticNetParam=0.8)\n"
      ],
      "execution_count": null,
      "outputs": []
    },
    {
      "cell_type": "code",
      "metadata": {
        "id": "0S7R6ew6CqGL",
        "colab": {
          "base_uri": "https://localhost:8080/"
        },
        "outputId": "51be05dc-9807-4c59-dc32-9fd56fb22f69"
      },
      "source": [
        "scaled_df_train.show()"
      ],
      "execution_count": null,
      "outputs": [
        {
          "output_type": "stream",
          "text": [
            "+------------------+--------------------+--------------------+\n",
            "|             label|            features|     features_scaled|\n",
            "+------------------+--------------------+--------------------+\n",
            "|21.700000762939453|[0.15875999629497...|[0.01775060126223...|\n",
            "|19.600000381469727|[0.10328000038862...|[0.01154750660144...|\n",
            "|20.299999237060547|[0.34940001368522...|[0.03906563661302...|\n",
            "|15.399999618530273|[2.73396992683410...|[0.30567908268275...|\n",
            "|              20.5|[0.04337000101804...|[0.00484910312912...|\n",
            "|34.900001525878906|[0.08370000123977...|[0.00935831054628...|\n",
            "|26.200000762939453|[0.19073000550270...|[0.02132509672103...|\n",
            "|21.600000381469727|[0.26938000321388...|[0.03011877763075...|\n",
            "|14.100000381469727|[10.0622997283935...|[1.12504330075642...|\n",
            "|              17.0|[1.41384994983673...|[0.15807941099689...|\n",
            "|10.399999618530273|[25.9405994415283...|[2.90036059420350...|\n",
            "|23.299999237060547|[0.09251999855041...|[0.01034445478317...|\n",
            "|              21.0|[1.00244998931884...|[0.11208169854492...|\n",
            "|22.200000762939453|[0.11027000099420...|[0.01232904298635...|\n",
            "| 8.699999809265137|[15.1772003173828...|[1.69692893296827...|\n",
            "|23.700000762939453|[5.70817995071411...|[0.63821887504918...|\n",
            "|22.200000762939453|[0.10289999842643...|[0.01150501942919...|\n",
            "|              12.0|[15.0234003067016...|[1.67973289664023...|\n",
            "|              21.5|[1.65659999847412...|[0.18522075277258...|\n",
            "|23.299999237060547|[1.42501997947692...|[0.15932830710962...|\n",
            "+------------------+--------------------+--------------------+\n",
            "only showing top 20 rows\n",
            "\n"
          ],
          "name": "stdout"
        }
      ]
    },
    {
      "cell_type": "code",
      "metadata": {
        "colab": {
          "base_uri": "https://localhost:8080/"
        },
        "id": "ospVGd47f5Tc",
        "outputId": "d7016fdc-6ffe-482f-c6c6-562841023f7c"
      },
      "source": [
        "scaled_df_test.show()"
      ],
      "execution_count": null,
      "outputs": [
        {
          "output_type": "stream",
          "text": [
            "+----------+--------------------+--------------------+\n",
            "|label_fake|            features|     features_scaled|\n",
            "+----------+--------------------+--------------------+\n",
            "|       0.0|[0.07885999977588...|[0.00881716077241...|\n",
            "|       0.0|[0.08872999995946...|[0.00992070348976...|\n",
            "|       0.0|[1.38798999786376...|[0.15518806741635...|\n",
            "|       0.0|[0.30346998572349...|[0.03393030257839...|\n",
            "|       0.0|[0.22926999628543...|[0.02563416717328...|\n",
            "|       0.0|[0.06465999782085...|[0.00722949020987...|\n",
            "|       0.0|[0.13117000460624...|[0.01466582579785...|\n",
            "|       0.0|[1.23247003555297...|[0.13779972713089...|\n",
            "|       0.0|[0.43571001291275...|[0.04871576521585...|\n",
            "|       0.0|[0.08186999708414...|[0.00915370186127...|\n",
            "|       0.0|[0.52013999223709...|[0.05815569298443...|\n",
            "|       0.0|[24.8017005920410...|[2.77302285278845...|\n",
            "|       0.0|[1.25179004669189...|[0.13995985450625...|\n",
            "|       0.0|[0.54010999202728...|[0.06038849414187...|\n",
            "|       0.0|[11.9511003494262...|[1.33622588749265...|\n",
            "|       0.0|[12.8023004531860...|[1.43139667351445...|\n",
            "|       0.0|[0.04293999820947...|[0.00480102547370...|\n",
            "|       0.0|[0.17170999944210...|[0.01919851224468...|\n",
            "|       0.0|[0.03960999846458...|[0.00442870562579...|\n",
            "|       0.0|[11.1080999374389...|[1.24197189072837...|\n",
            "+----------+--------------------+--------------------+\n",
            "only showing top 20 rows\n",
            "\n"
          ],
          "name": "stdout"
        }
      ]
    },
    {
      "cell_type": "code",
      "metadata": {
        "id": "CdcazpdrDRWN"
      },
      "source": [
        "# Fit the data to the model\n",
        "linearModel = lr.fit(scaled_df_train)"
      ],
      "execution_count": null,
      "outputs": []
    },
    {
      "cell_type": "markdown",
      "metadata": {
        "id": "jXQe3IMXwP5A"
      },
      "source": [
        "**Step 14**: Make the predictions"
      ]
    },
    {
      "cell_type": "code",
      "metadata": {
        "id": "xVETHzzdc-DX"
      },
      "source": [
        "# Make predictions on test data\n",
        "predicted_test = linearModel.transform(scaled_df_test)"
      ],
      "execution_count": null,
      "outputs": []
    },
    {
      "cell_type": "code",
      "metadata": {
        "id": "DET3yrN9vZuH",
        "colab": {
          "base_uri": "https://localhost:8080/"
        },
        "outputId": "79acbd92-9e82-4cad-9673-72d7d47e914d"
      },
      "source": [
        "predicted_test.select('features', 'prediction').show(20)"
      ],
      "execution_count": null,
      "outputs": [
        {
          "output_type": "stream",
          "text": [
            "+--------------------+------------------+\n",
            "|            features|        prediction|\n",
            "+--------------------+------------------+\n",
            "|[0.07885999977588...| 30.94251988528655|\n",
            "|[0.08872999995946...| 21.55932152726045|\n",
            "|[1.38798999786376...|10.537025559884444|\n",
            "|[0.30346998572349...|24.831114673068654|\n",
            "|[0.22926999628543...| 18.77069896676209|\n",
            "|[0.06465999782085...| 28.59375693988012|\n",
            "|[0.13117000460624...|20.403357752291278|\n",
            "|[1.23247003555297...|16.981480439722297|\n",
            "|[0.43571001291275...|13.706084775092394|\n",
            "|[0.08186999708414...| 35.43455078363393|\n",
            "|[0.52013999223709...|  40.1643794170824|\n",
            "|[24.8017005920410...|11.982263099779866|\n",
            "|[1.25179004669189...|13.284864416938635|\n",
            "|[0.54010999202728...| 33.20809195953153|\n",
            "|[11.9511003494262...| 17.82101771173071|\n",
            "|[12.8023004531860...| 11.48820141407007|\n",
            "|[0.04293999820947...|24.672908655334496|\n",
            "|[0.17170999944210...| 18.43592511996215|\n",
            "|[0.03960999846458...|21.829903478439814|\n",
            "|[11.1080999374389...| 3.736057245186565|\n",
            "+--------------------+------------------+\n",
            "only showing top 20 rows\n",
            "\n"
          ],
          "name": "stdout"
        }
      ]
    },
    {
      "cell_type": "code",
      "metadata": {
        "id": "_at1Sm-fdH8E"
      },
      "source": [
        "# Retrieve the predictions and the \"known\" labels.\n",
        "#Since the test data comes without \"known\" labels, we will show the predictions and \"known\" labels of the training data.\n",
        "predicted_train = linearModel.transform(scaled_df_train)\n",
        "predictions = predicted_train.select(\"prediction\").rdd.map(lambda x: x[0])\n",
        "labels = predicted_train.select(\"label\").rdd.map(lambda x: x[0])"
      ],
      "execution_count": null,
      "outputs": []
    },
    {
      "cell_type": "code",
      "metadata": {
        "id": "-6D08VCHdMAm"
      },
      "source": [
        "# Combine the predictions and the label\n",
        "predictionAndLabel = predictions.zip(labels).collect()"
      ],
      "execution_count": null,
      "outputs": []
    },
    {
      "cell_type": "markdown",
      "metadata": {
        "id": "iM07ePZ_xzoD"
      },
      "source": [
        "**Step 15**: Output the predictions and the associated labels"
      ]
    },
    {
      "cell_type": "code",
      "metadata": {
        "id": "dZz1ke1wdQ2c",
        "colab": {
          "base_uri": "https://localhost:8080/"
        },
        "outputId": "337671b4-2826-4a8b-b0d7-5e1c3ac78bc4"
      },
      "source": [
        "# Print out first 15 instances of `predictionAndLabel`\n",
        "predictionAndLabel[:15]"
      ],
      "execution_count": null,
      "outputs": [
        {
          "output_type": "execute_result",
          "data": {
            "text/plain": [
              "[(22.188195479993183, 21.700000762939453),\n",
              " (20.971198514672466, 19.600000381469727),\n",
              " (23.29960416057812, 20.299999237060547),\n",
              " (17.027312202324573, 15.399999618530273),\n",
              " (24.254350726806027, 20.5),\n",
              " (33.394339929220095, 34.900001525878906),\n",
              " (25.839337014625237, 26.200000762939453),\n",
              " (25.532812578386995, 21.600000381469727),\n",
              " (17.937967030928146, 14.100000381469727),\n",
              " (22.325655239361993, 17.0),\n",
              " (6.66441033550244, 10.399999618530273),\n",
              " (27.897723148694926, 23.299999237060547),\n",
              " (22.48868735560656, 21.0),\n",
              " (24.383802795837347, 22.200000762939453),\n",
              " (9.835835943899497, 8.699999809265137)]"
            ]
          },
          "metadata": {
            "tags": []
          },
          "execution_count": 66
        }
      ]
    },
    {
      "cell_type": "markdown",
      "metadata": {
        "id": "ZbrbTry1H12m"
      },
      "source": [
        "**Step 16**: Evaluating the model"
      ]
    },
    {
      "cell_type": "markdown",
      "metadata": {
        "id": "HhntEZ4PJxu_"
      },
      "source": [
        "**RMSE**: RMSE measures the differences between predicted values by the model and the actual values.The smaller the RMSE value is, the closer predicted and actual values are."
      ]
    },
    {
      "cell_type": "code",
      "metadata": {
        "id": "HAY7zu3fJq3W",
        "colab": {
          "base_uri": "https://localhost:8080/"
        },
        "outputId": "b7cf04b1-8c8d-492f-81d0-88e413c54e63"
      },
      "source": [
        "linearModel.summary.rootMeanSquaredError"
      ],
      "execution_count": null,
      "outputs": [
        {
          "output_type": "execute_result",
          "data": {
            "text/plain": [
              "4.605529599147375"
            ]
          },
          "metadata": {
            "tags": []
          },
          "execution_count": 67
        }
      ]
    },
    {
      "cell_type": "markdown",
      "metadata": {
        "id": "uE8R7KvCKGhQ"
      },
      "source": [
        "**R-Squared** known as \"Co-efficient of determination\" illustrates the extent of the variability in the \"Medv\" that can be explained by the Linear Regression model. The higher the R-squared, the better the model fits the underlying data."
      ]
    },
    {
      "cell_type": "code",
      "metadata": {
        "id": "aKAwTryaLGdc",
        "colab": {
          "base_uri": "https://localhost:8080/"
        },
        "outputId": "0d798e8f-30cc-4cf9-ba60-564b8e83f7cf"
      },
      "source": [
        "linearModel.summary.r2"
      ],
      "execution_count": null,
      "outputs": [
        {
          "output_type": "execute_result",
          "data": {
            "text/plain": [
              "0.7277148668145534"
            ]
          },
          "metadata": {
            "tags": []
          },
          "execution_count": 68
        }
      ]
    },
    {
      "cell_type": "markdown",
      "metadata": {
        "id": "hNApnBDdLVG8"
      },
      "source": [
        "72.8% of the variability in the \"Medv\" is explained by the Linear Regression model. Since the RMSE and the R_Squared are quiet good, therefore, it can be concluded that the model generated is good in predicting the median value of houses in the surburbs of Boston."
      ]
    }
  ]
}